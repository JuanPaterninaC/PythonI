{
 "cells": [
  {
   "cell_type": "code",
   "execution_count": 1,
   "metadata": {},
   "outputs": [],
   "source": [
    "#importamos la libreria \n",
    "import pandas \n",
    "import numpy as np \n",
    "\n",
    "pandas.set_option('display.notebook_repr_html',False)"
   ]
  },
  {
   "cell_type": "code",
   "execution_count": 3,
   "metadata": {},
   "outputs": [],
   "source": [
    "## Lee el archivo del disco.\n",
    "\n",
    "x = pandas.read_csv('Tablas/iris.csv',\n",
    "                   sep = ',',\n",
    "                   thousands = None,\n",
    "                   decimal = '.') "
   ]
  },
  {
   "cell_type": "markdown",
   "metadata": {},
   "source": [
    "## Agrupamiento\n",
    "Los dataframes de Pandas pueden ser intepretados en ocasiones como tablas de SQL en donde es posible realizar agregaciones y operaciones simples sobre los campos."
   ]
  },
  {
   "cell_type": "code",
   "execution_count": 4,
   "metadata": {},
   "outputs": [
    {
     "data": {
      "text/plain": [
       "  variety  sepal.width  sepal.length  petal.width  petal.length\n",
       "0  Setosa          3.5           5.1          0.2           1.4\n",
       "1  Setosa          3.0           4.9          0.2           1.4\n",
       "2  Setosa          3.2           4.7          0.2           1.3\n",
       "3  Setosa          3.1           4.6          0.2           1.5\n",
       "4  Setosa          3.6           5.0          0.2           1.4"
      ]
     },
     "execution_count": 4,
     "metadata": {},
     "output_type": "execute_result"
    }
   ],
   "source": [
    "## Se agrupa el set de datos por una columna dada\n",
    "\n",
    "x.sort_index(1, ascending = False).head()"
   ]
  },
  {
   "cell_type": "code",
   "execution_count": 16,
   "metadata": {},
   "outputs": [
    {
     "data": {
      "text/plain": [
       "     sepal.length  sepal.width  petal.length  petal.width     variety\n",
       "60            5.0          2.0           3.5          1.0  Versicolor\n",
       "62            6.0          2.2           4.0          1.0  Versicolor\n",
       "119           6.0          2.2           5.0          1.5   Virginica\n",
       "68            6.2          2.2           4.5          1.5  Versicolor\n",
       "41            4.5          2.3           1.3          0.3      Setosa\n",
       "93            5.0          2.3           3.3          1.0  Versicolor\n",
       "53            5.5          2.3           4.0          1.3  Versicolor\n",
       "87            6.3          2.3           4.4          1.3  Versicolor\n",
       "57            4.9          2.4           3.3          1.0  Versicolor\n",
       "80            5.5          2.4           3.8          1.1  Versicolor"
      ]
     },
     "execution_count": 16,
     "metadata": {},
     "output_type": "execute_result"
    }
   ],
   "source": [
    "## ordena por varias columnas\n",
    "## devuelve los indices de las filas\n",
    "## ordena primero por Sepal.Width y luego por Sepal.Length\n",
    "x.sort_values(by = ['sepal.width','sepal.length']).head(10)"
   ]
  },
  {
   "cell_type": "markdown",
   "metadata": {},
   "source": [
    "La función groupby agrega los datos de una o varias columnas en valores únicos de dicho campo, generando subgrupos dentro de cada clase."
   ]
  },
  {
   "cell_type": "code",
   "execution_count": 22,
   "metadata": {},
   "outputs": [
    {
     "data": {
      "text/plain": [
       "dict_keys(['Setosa', 'Versicolor', 'Virginica'])"
      ]
     },
     "execution_count": 22,
     "metadata": {},
     "output_type": "execute_result"
    }
   ],
   "source": [
    "## partición por los valores de la columna `variety`\n",
    "y = x.groupby('variety')\n",
    "y.groups.keys()"
   ]
  },
  {
   "cell_type": "code",
   "execution_count": 12,
   "metadata": {},
   "outputs": [
    {
     "data": {
      "text/plain": [
       "3"
      ]
     },
     "execution_count": 12,
     "metadata": {},
     "output_type": "execute_result"
    }
   ],
   "source": [
    "## Cantidad de grupos. Este comando funciona como un select distintc en SQL\n",
    "## Arroja la cantidad de valores distintos.\n",
    "len(y.groups)"
   ]
  },
  {
   "cell_type": "code",
   "execution_count": 14,
   "metadata": {},
   "outputs": [
    {
     "data": {
      "text/plain": [
       "variety\n",
       "Setosa        50\n",
       "Versicolor    50\n",
       "Virginica     50\n",
       "dtype: int64"
      ]
     },
     "execution_count": 14,
     "metadata": {},
     "output_type": "execute_result"
    }
   ],
   "source": [
    "## Cantidad de grupos. Funciona como un agrupamiento y \n",
    "##conteo por la columna variety en SQL.\n",
    "y.size()"
   ]
  },
  {
   "cell_type": "code",
   "execution_count": 25,
   "metadata": {},
   "outputs": [
    {
     "data": {
      "text/plain": [
       "   sepal.length  sepal.width  petal.length  petal.width variety\n",
       "0           5.1          3.5           1.4          0.2  Setosa\n",
       "1           4.9          3.0           1.4          0.2  Setosa\n",
       "2           4.7          3.2           1.3          0.2  Setosa\n",
       "3           4.6          3.1           1.5          0.2  Setosa\n",
       "4           5.0          3.6           1.4          0.2  Setosa"
      ]
     },
     "execution_count": 25,
     "metadata": {},
     "output_type": "execute_result"
    }
   ],
   "source": [
    "## Elemento de un subgrupo agregado.\n",
    "x.loc[y.groups['Setosa']].head()"
   ]
  },
  {
   "cell_type": "code",
   "execution_count": 27,
   "metadata": {},
   "outputs": [
    {
     "data": {
      "text/plain": [
       "     sepal.length  sepal.width  petal.length  petal.width    variety\n",
       "100           6.3          3.3           6.0          2.5  Virginica\n",
       "101           5.8          2.7           5.1          1.9  Virginica\n",
       "102           7.1          3.0           5.9          2.1  Virginica\n",
       "103           6.3          2.9           5.6          1.8  Virginica\n",
       "104           6.5          3.0           5.8          2.2  Virginica"
      ]
     },
     "execution_count": 27,
     "metadata": {},
     "output_type": "execute_result"
    }
   ],
   "source": [
    "## Elementos de otro subgrupo agregado \n",
    "x.loc[y.groups['Virginica']].head()"
   ]
  },
  {
   "cell_type": "markdown",
   "metadata": {},
   "source": [
    "## Agregación\n",
    "Es posible realizar operaciones simples sobre las columnas o filas de un dataframe de Pandas. A continuación algunas de ellas:"
   ]
  },
  {
   "cell_type": "markdown",
   "metadata": {},
   "source": [
    "       _______________________________________________________________\n",
    "        |      Funciones que pueden ser aplicadas a un DataFrame      |\n",
    "        ---------------------------------------------------------------\n",
    "        |abs        all       any       clip    clip_lower  clip_upper|\n",
    "        |corr       corrwith  count     cov     cummax      cummin    |\n",
    "        |cumprod    cumsum    describe  diff    eval        kurt      |\n",
    "        |mad        max       mean      median  min         mode      |\n",
    "        |ct_change  prod      quantile  rank    round       sem       |\n",
    "        |skew  sum  std       var`                                    |\n",
    "        ---------------------------------------------------------------"
   ]
  },
  {
   "cell_type": "code",
   "execution_count": 31,
   "metadata": {},
   "outputs": [
    {
     "data": {
      "text/plain": [
       "            sepal.length  sepal.width  petal.length  petal.width\n",
       "variety                                                         \n",
       "Setosa             250.3        171.4          73.1         12.3\n",
       "Versicolor         296.8        138.5         213.0         66.3\n",
       "Virginica          329.4        148.7         277.6        101.3"
      ]
     },
     "execution_count": 31,
     "metadata": {},
     "output_type": "execute_result"
    }
   ],
   "source": [
    "## Se aplica la suma de cada columna para \n",
    "##cada especie. La salida es un nuevo dataframe.\n",
    "x.groupby('variety').sum()"
   ]
  },
  {
   "cell_type": "code",
   "execution_count": 36,
   "metadata": {},
   "outputs": [
    {
     "data": {
      "text/plain": [
       "variety\n",
       "Setosa        250.3\n",
       "Versicolor    296.8\n",
       "Virginica     329.4\n",
       "Name: sepal.length, dtype: float64"
      ]
     },
     "execution_count": 36,
     "metadata": {},
     "output_type": "execute_result"
    }
   ],
   "source": [
    "## Se selecionan solo para la medida sepal.length\n",
    "(x.groupby('variety').sum())['sepal.length']"
   ]
  },
  {
   "cell_type": "code",
   "execution_count": 38,
   "metadata": {},
   "outputs": [
    {
     "data": {
      "text/plain": [
       "Setosa        50\n",
       "Virginica     50\n",
       "Versicolor    50\n",
       "Name: variety, dtype: int64"
      ]
     },
     "execution_count": 38,
     "metadata": {},
     "output_type": "execute_result"
    }
   ],
   "source": [
    "## conteo de casos.\n",
    "## número de casos por `variety`\n",
    "x['variety'].value_counts()"
   ]
  },
  {
   "cell_type": "code",
   "execution_count": 41,
   "metadata": {},
   "outputs": [
    {
     "data": {
      "text/plain": [
       "5.0    10\n",
       "6.3     9\n",
       "5.1     9\n",
       "6.7     8\n",
       "5.7     8\n",
       "5.5     7\n",
       "5.8     7\n",
       "6.4     7\n",
       "6.0     6\n",
       "4.9     6\n",
       "6.1     6\n",
       "5.4     6\n",
       "5.6     6\n",
       "6.5     5\n",
       "4.8     5\n",
       "7.7     4\n",
       "6.9     4\n",
       "5.2     4\n",
       "6.2     4\n",
       "4.6     4\n",
       "7.2     3\n",
       "6.8     3\n",
       "4.4     3\n",
       "5.9     3\n",
       "6.6     2\n",
       "4.7     2\n",
       "7.6     1\n",
       "7.4     1\n",
       "4.3     1\n",
       "7.9     1\n",
       "7.3     1\n",
       "7.0     1\n",
       "4.5     1\n",
       "5.3     1\n",
       "7.1     1\n",
       "Name: sepal.length, dtype: int64"
      ]
     },
     "execution_count": 41,
     "metadata": {},
     "output_type": "execute_result"
    }
   ],
   "source": [
    "## conteo de casos por `sepal.length`\n",
    "x['sepal.length'].value_counts()"
   ]
  },
  {
   "cell_type": "code",
   "execution_count": 46,
   "metadata": {},
   "outputs": [
    {
     "data": {
      "text/plain": [
       "sepal.length    5.843333\n",
       "sepal.width     3.057333\n",
       "dtype: float64"
      ]
     },
     "execution_count": 46,
     "metadata": {},
     "output_type": "execute_result"
    }
   ],
   "source": [
    "## aplicación de una funcion a columnas especificas \n",
    "## de un data.frame\n",
    "import numpy as np\n",
    "x[['sepal.length','sepal.width']].apply(np.mean)  ## mean = Promedio o media"
   ]
  },
  {
   "cell_type": "code",
   "execution_count": 48,
   "metadata": {},
   "outputs": [
    {
     "data": {
      "text/plain": [
       "variety\n",
       "Setosa        5.006\n",
       "Versicolor    5.936\n",
       "Virginica     6.588\n",
       "Name: sepal.length, dtype: float64"
      ]
     },
     "execution_count": 48,
     "metadata": {},
     "output_type": "execute_result"
    }
   ],
   "source": [
    "## aplica la función a la columna especificada por grupos\n",
    "(x.groupby('variety').mean())['sepal.length']"
   ]
  },
  {
   "cell_type": "code",
   "execution_count": 49,
   "metadata": {},
   "outputs": [
    {
     "data": {
      "text/plain": [
       "            sepal.length  sepal.width  petal.length  petal.width\n",
       "variety                                                         \n",
       "Setosa             5.006        3.428         1.462        0.246\n",
       "Versicolor         5.936        2.770         4.260        1.326\n",
       "Virginica          6.588        2.974         5.552        2.026"
      ]
     },
     "execution_count": 49,
     "metadata": {},
     "output_type": "execute_result"
    }
   ],
   "source": [
    "## aplica la función a la columna especificada por grupos\n",
    "(x.groupby('variety').mean())[['sepal.length',\n",
    "                              'sepal.width',\n",
    "                              'petal.length',\n",
    "                              'petal.width']]"
   ]
  },
  {
   "cell_type": "code",
   "execution_count": 55,
   "metadata": {},
   "outputs": [
    {
     "data": {
      "text/plain": [
       "Setosa        50\n",
       "Virginica     50\n",
       "Versicolor    50\n",
       "Name: variety, dtype: int64"
      ]
     },
     "execution_count": 55,
     "metadata": {},
     "output_type": "execute_result"
    }
   ],
   "source": [
    "## UNION\n",
    "z = pandas.concat([x.iloc[y.groups['Setosa']],\n",
    "                  x.iloc[y.groups['Virginica']],\n",
    "                  x.iloc[y.groups['Versicolor']]])\n",
    "z['variety'].value_counts()"
   ]
  },
  {
   "cell_type": "markdown",
   "metadata": {},
   "source": [
    "## Pivotes\n",
    "Los pivotes consisten en obtener varias columnas como index y operar a partir de las que permanecen dinámicas para apilarlas."
   ]
  },
  {
   "cell_type": "code",
   "execution_count": 56,
   "metadata": {},
   "outputs": [
    {
     "data": {
      "text/plain": [
       "   sepal.length  sepal.width  petal.length  petal.width variety  key\n",
       "0           5.1          3.5           1.4          0.2  Setosa    0\n",
       "1           4.9          3.0           1.4          0.2  Setosa    1\n",
       "2           4.7          3.2           1.3          0.2  Setosa    2\n",
       "3           4.6          3.1           1.5          0.2  Setosa    3\n",
       "4           5.0          3.6           1.4          0.2  Setosa    4"
      ]
     },
     "execution_count": 56,
     "metadata": {},
     "output_type": "execute_result"
    }
   ],
   "source": [
    "## Agrega una clave para identificar cada caso, es decir, cada registro\n",
    "x['key'] = list(range(150))\n",
    "x.head()"
   ]
  }
 ],
 "metadata": {
  "kernelspec": {
   "display_name": "Python 3",
   "language": "python",
   "name": "python3"
  },
  "language_info": {
   "codemirror_mode": {
    "name": "ipython",
    "version": 3
   },
   "file_extension": ".py",
   "mimetype": "text/x-python",
   "name": "python",
   "nbconvert_exporter": "python",
   "pygments_lexer": "ipython3",
   "version": "3.7.4"
  }
 },
 "nbformat": 4,
 "nbformat_minor": 2
}
