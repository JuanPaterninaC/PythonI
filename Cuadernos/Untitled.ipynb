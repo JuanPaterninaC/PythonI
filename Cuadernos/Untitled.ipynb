{
 "cells": [
  {
   "cell_type": "markdown",
   "metadata": {},
   "source": [
    "## Pandas"
   ]
  },
  {
   "cell_type": "markdown",
   "metadata": {},
   "source": [
    "### Agrupamiento, agregación y pivote\n"
   ]
  },
  {
   "cell_type": "markdown",
   "metadata": {},
   "source": [
    "Preparación de datos."
   ]
  },
  {
   "cell_type": "code",
   "execution_count": 16,
   "metadata": {},
   "outputs": [],
   "source": [
    "## import la librería\n",
    "import pandas \n",
    "import numpy as np\n",
    "\n",
    "pandas.set_option('display.notebook_repr_html', False)"
   ]
  },
  {
   "cell_type": "code",
   "execution_count": 18,
   "metadata": {},
   "outputs": [],
   "source": [
    "## lee el archivo del disco.\n",
    "x = pandas.read_csv('Tablas/iris.csv',\n",
    "                   sep = ',',\n",
    "                   thousands = None,\n",
    "                   decimal = '.')"
   ]
  },
  {
   "cell_type": "markdown",
   "metadata": {},
   "source": [
    "## Agrupamiento\n",
    "Los dataframes de Pandas pueden ser intepretados en ocasiones como tablas de SQL en donde es posible realizar agregaciones y operaciones simples sobre los campos."
   ]
  },
  {
   "cell_type": "code",
   "execution_count": 19,
   "metadata": {},
   "outputs": [
    {
     "data": {
      "text/plain": [
       "  variety  sepal.width  sepal.length  petal.width  petal.length\n",
       "0  Setosa          3.5           5.1          0.2           1.4\n",
       "1  Setosa          3.0           4.9          0.2           1.4\n",
       "2  Setosa          3.2           4.7          0.2           1.3\n",
       "3  Setosa          3.1           4.6          0.2           1.5\n",
       "4  Setosa          3.6           5.0          0.2           1.4"
      ]
     },
     "execution_count": 19,
     "metadata": {},
     "output_type": "execute_result"
    }
   ],
   "source": [
    "# Se agrupa el set de datos por una columna dada\n",
    "x.sort_index(1, ascending = False).head()"
   ]
  },
  {
   "cell_type": "code",
   "execution_count": 29,
   "metadata": {},
   "outputs": [
    {
     "data": {
      "text/plain": [
       "     sepal.length  sepal.width  petal.length  petal.width     variety\n",
       "60            5.0          2.0           3.5          1.0  Versicolor\n",
       "62            6.0          2.2           4.0          1.0  Versicolor\n",
       "119           6.0          2.2           5.0          1.5   Virginica\n",
       "68            6.2          2.2           4.5          1.5  Versicolor\n",
       "41            4.5          2.3           1.3          0.3      Setosa\n",
       "93            5.0          2.3           3.3          1.0  Versicolor\n",
       "53            5.5          2.3           4.0          1.3  Versicolor\n",
       "87            6.3          2.3           4.4          1.3  Versicolor\n",
       "57            4.9          2.4           3.3          1.0  Versicolor\n",
       "80            5.5          2.4           3.8          1.1  Versicolor"
      ]
     },
     "execution_count": 29,
     "metadata": {},
     "output_type": "execute_result"
    }
   ],
   "source": [
    "## ordena por varias columnas\n",
    "## devuelve los indices de las filas\n",
    "## ordena primero por Sepal.Width y luego por Sepal.Length\n",
    "x.sort_values(by = ['sepal.width', 'sepal.length']).head(10)"
   ]
  },
  {
   "cell_type": "markdown",
   "metadata": {},
   "source": [
    "La función groupby agrega los datos de una o varias columnas en valores únicos de dicho campo, generando subgrupos dentro de cada clase."
   ]
  },
  {
   "cell_type": "code",
   "execution_count": 32,
   "metadata": {},
   "outputs": [
    {
     "data": {
      "text/plain": [
       "dict_keys(['Setosa', 'Versicolor', 'Virginica'])"
      ]
     },
     "execution_count": 32,
     "metadata": {},
     "output_type": "execute_result"
    }
   ],
   "source": [
    "## partición por los valores de la columna 'species'\n",
    "y = x.groupby('variety')\n",
    "y.groups.keys()"
   ]
  },
  {
   "cell_type": "code",
   "execution_count": 33,
   "metadata": {},
   "outputs": [
    {
     "data": {
      "text/plain": [
       "3"
      ]
     },
     "execution_count": 33,
     "metadata": {},
     "output_type": "execute_result"
    }
   ],
   "source": [
    "## cantidad de grupos. Este comando funciona como un select distintc en sql\n",
    "len(y.groups)"
   ]
  },
  {
   "cell_type": "code",
   "execution_count": 35,
   "metadata": {},
   "outputs": [
    {
     "data": {
      "text/plain": [
       "variety\n",
       "Setosa        50\n",
       "Versicolor    50\n",
       "Virginica     50\n",
       "dtype: int64"
      ]
     },
     "execution_count": 35,
     "metadata": {},
     "output_type": "execute_result"
    }
   ],
   "source": [
    "## cantidad de grupos. Funciona como agrupamiento y conteo por la columna \n",
    "## a variety en sql.\n",
    "y.size()"
   ]
  },
  {
   "cell_type": "code",
   "execution_count": 37,
   "metadata": {},
   "outputs": [
    {
     "data": {
      "text/plain": [
       "   sepal.length  sepal.width  petal.length  petal.width variety\n",
       "0           5.1          3.5           1.4          0.2  Setosa\n",
       "1           4.9          3.0           1.4          0.2  Setosa\n",
       "2           4.7          3.2           1.3          0.2  Setosa\n",
       "3           4.6          3.1           1.5          0.2  Setosa\n",
       "4           5.0          3.6           1.4          0.2  Setosa"
      ]
     },
     "execution_count": 37,
     "metadata": {},
     "output_type": "execute_result"
    }
   ],
   "source": [
    "# Elementos de un subgrupo agregado.\n",
    "x.loc[y.groups['Setosa']].head()"
   ]
  },
  {
   "cell_type": "code",
   "execution_count": 38,
   "metadata": {},
   "outputs": [
    {
     "data": {
      "text/plain": [
       "     sepal.length  sepal.width  petal.length  petal.width    variety\n",
       "100           6.3          3.3           6.0          2.5  Virginica\n",
       "101           5.8          2.7           5.1          1.9  Virginica\n",
       "102           7.1          3.0           5.9          2.1  Virginica\n",
       "103           6.3          2.9           5.6          1.8  Virginica\n",
       "104           6.5          3.0           5.8          2.2  Virginica"
      ]
     },
     "execution_count": 38,
     "metadata": {},
     "output_type": "execute_result"
    }
   ],
   "source": [
    "x.loc[y.groups['Virginica']].head()"
   ]
  },
  {
   "cell_type": "markdown",
   "metadata": {},
   "source": [
    "## Agregación\n",
    "Es posible realizar operaciones simples sobre las columnas o filas de un dataframe de Pandas. A continuación algunas de ellas:"
   ]
  },
  {
   "cell_type": "markdown",
   "metadata": {},
   "source": [
    "       _______________________________________________________________\n",
    "        |      Funciones que pueden ser aplicadas a un DataFrame      |\n",
    "        ---------------------------------------------------------------\n",
    "        |abs        all       any       clip    clip_lower  clip_upper|\n",
    "        |corr       corrwith  count     cov     cummax      cummin    |\n",
    "        |cumprod    cumsum    describe  diff    eval        kurt      |\n",
    "        |mad        max       mean      median  min         mode      |\n",
    "        |ct_change  prod      quantile  rank    round       sem       |\n",
    "        |skew  sum  std       var`                                    |\n",
    "        ---------------------------------------------------------------"
   ]
  },
  {
   "cell_type": "code",
   "execution_count": 39,
   "metadata": {},
   "outputs": [
    {
     "data": {
      "text/plain": [
       "            sepal.length  sepal.width  petal.length  petal.width\n",
       "variety                                                         \n",
       "Setosa             250.3        171.4          73.1         12.3\n",
       "Versicolor         296.8        138.5         213.0         66.3\n",
       "Virginica          329.4        148.7         277.6        101.3"
      ]
     },
     "execution_count": 39,
     "metadata": {},
     "output_type": "execute_result"
    }
   ],
   "source": [
    "## se aplica la suma de cada columna para cada especie. \n",
    "##La salida es un nuevo fataFrame.\n",
    "x.groupby('variety').sum()"
   ]
  },
  {
   "cell_type": "code",
   "execution_count": 40,
   "metadata": {},
   "outputs": [
    {
     "data": {
      "text/plain": [
       "variety\n",
       "Setosa        250.3\n",
       "Versicolor    296.8\n",
       "Virginica     329.4\n",
       "Name: sepal.length, dtype: float64"
      ]
     },
     "execution_count": 40,
     "metadata": {},
     "output_type": "execute_result"
    }
   ],
   "source": [
    "## Se seleccionan solo para la medida Sepal_Length\n",
    "(x.groupby('variety').sum())[\"sepal.length\"]"
   ]
  },
  {
   "cell_type": "code",
   "execution_count": 41,
   "metadata": {},
   "outputs": [
    {
     "data": {
      "text/plain": [
       "Versicolor    50\n",
       "Setosa        50\n",
       "Virginica     50\n",
       "Name: variety, dtype: int64"
      ]
     },
     "execution_count": 41,
     "metadata": {},
     "output_type": "execute_result"
    }
   ],
   "source": [
    "## Conteo de caos.\n",
    "## número de casos por 'variety'\n",
    "x['variety'].value_counts()"
   ]
  },
  {
   "cell_type": "code",
   "execution_count": 42,
   "metadata": {},
   "outputs": [
    {
     "data": {
      "text/plain": [
       "5.0    10\n",
       "6.3     9\n",
       "5.1     9\n",
       "6.7     8\n",
       "5.7     8\n",
       "5.5     7\n",
       "5.8     7\n",
       "6.4     7\n",
       "6.0     6\n",
       "4.9     6\n",
       "6.1     6\n",
       "5.4     6\n",
       "5.6     6\n",
       "6.5     5\n",
       "4.8     5\n",
       "7.7     4\n",
       "6.9     4\n",
       "5.2     4\n",
       "6.2     4\n",
       "4.6     4\n",
       "7.2     3\n",
       "6.8     3\n",
       "4.4     3\n",
       "5.9     3\n",
       "6.6     2\n",
       "4.7     2\n",
       "7.6     1\n",
       "7.4     1\n",
       "4.3     1\n",
       "7.9     1\n",
       "7.3     1\n",
       "7.0     1\n",
       "4.5     1\n",
       "5.3     1\n",
       "7.1     1\n",
       "Name: sepal.length, dtype: int64"
      ]
     },
     "execution_count": 42,
     "metadata": {},
     "output_type": "execute_result"
    }
   ],
   "source": [
    "## conteo de casos por 'Sepal.Length'\n",
    "x['sepal.length'].value_counts()"
   ]
  },
  {
   "cell_type": "code",
   "execution_count": 43,
   "metadata": {},
   "outputs": [
    {
     "data": {
      "text/plain": [
       "sepal.length    5.843333\n",
       "sepal.width     3.057333\n",
       "dtype: float64"
      ]
     },
     "execution_count": 43,
     "metadata": {},
     "output_type": "execute_result"
    }
   ],
   "source": [
    "## aplicacion de una funcion a columnas especificas\n",
    "## de un data.Frame\n",
    "import numpy as np\n",
    "x[['sepal.length','sepal.width']].apply(np.mean)"
   ]
  },
  {
   "cell_type": "code",
   "execution_count": 44,
   "metadata": {},
   "outputs": [
    {
     "data": {
      "text/plain": [
       "variety\n",
       "Setosa        5.006\n",
       "Versicolor    5.936\n",
       "Virginica     6.588\n",
       "Name: sepal.length, dtype: float64"
      ]
     },
     "execution_count": 44,
     "metadata": {},
     "output_type": "execute_result"
    }
   ],
   "source": [
    "## aplica la funcion a la columna especificada por grupos\n",
    "(x.groupby('variety').mean())['sepal.length']"
   ]
  },
  {
   "cell_type": "code",
   "execution_count": 46,
   "metadata": {},
   "outputs": [
    {
     "data": {
      "text/plain": [
       "            sepal.length  sepal.width  petal.length  petal.width\n",
       "variety                                                         \n",
       "Setosa             5.006        3.428         1.462        0.246\n",
       "Versicolor         5.936        2.770         4.260        1.326\n",
       "Virginica          6.588        2.974         5.552        2.026"
      ]
     },
     "execution_count": 46,
     "metadata": {},
     "output_type": "execute_result"
    }
   ],
   "source": [
    "## aplica la funcion a la columna especificada por grupos\n",
    "(x.groupby('variety').mean())[['sepal.length',\n",
    "                              'sepal.width',\n",
    "                              'petal.length',\n",
    "                              'petal.width']]"
   ]
  },
  {
   "cell_type": "code",
   "execution_count": 52,
   "metadata": {},
   "outputs": [
    {
     "data": {
      "text/plain": [
       "Versicolor    50\n",
       "Setosa        50\n",
       "Virginica     50\n",
       "Name: variety, dtype: int64"
      ]
     },
     "execution_count": 52,
     "metadata": {},
     "output_type": "execute_result"
    }
   ],
   "source": [
    "## UNION\n",
    "z = pandas.concat([x.iloc[y.groups['Setosa']],\n",
    "                  x.iloc[y.groups['Virginica']],\n",
    "                  x.iloc[y.groups['Versicolor']]])\n",
    "\n",
    "z['variety'].value_counts()"
   ]
  },
  {
   "cell_type": "markdown",
   "metadata": {},
   "source": [
    "## Pivotes\n",
    "Los pivotes consisten en obtener varias columnas como index y operar a partir de las que permanecen dinámicas para apilarlas."
   ]
  },
  {
   "cell_type": "code",
   "execution_count": 65,
   "metadata": {},
   "outputs": [
    {
     "data": {
      "text/plain": [
       "   sepal.length  sepal.width  petal.length  petal.width variety  key\n",
       "0           5.1          3.5           1.4          0.2  Setosa    0\n",
       "1           4.9          3.0           1.4          0.2  Setosa    1\n",
       "2           4.7          3.2           1.3          0.2  Setosa    2\n",
       "3           4.6          3.1           1.5          0.2  Setosa    3\n",
       "4           5.0          3.6           1.4          0.2  Setosa    4"
      ]
     },
     "execution_count": 65,
     "metadata": {},
     "output_type": "execute_result"
    }
   ],
   "source": [
    "## agrega una clave para identificar cada caso, es decir, cada registro \n",
    "x['key'] = list(range(150))\n",
    "x.head()"
   ]
  },
  {
   "cell_type": "code",
   "execution_count": 66,
   "metadata": {},
   "outputs": [],
   "source": [
    "z = pandas.melt(x,       ## Data-Frame\n",
    "               id_vars = ['key','variety'],  ##Columnas que no se apilan\n",
    "               var_name = 'variables', ## nombre de la columna que contiene las columnas apiladas\n",
    "               value_name = 'Valores') ## nombre de la columna que contiene los valores"
   ]
  },
  {
   "cell_type": "code",
   "execution_count": 61,
   "metadata": {},
   "outputs": [
    {
     "data": {
      "text/plain": [
       "   key variety     variables  Valores\n",
       "0    0  Setosa  sepal.length      5.1\n",
       "1    1  Setosa  sepal.length      4.9\n",
       "2    2  Setosa  sepal.length      4.7\n",
       "3    3  Setosa  sepal.length      4.6\n",
       "4    4  Setosa  sepal.length      5.0"
      ]
     },
     "execution_count": 61,
     "metadata": {},
     "output_type": "execute_result"
    }
   ],
   "source": [
    "z.head()"
   ]
  },
  {
   "cell_type": "code",
   "execution_count": 67,
   "metadata": {},
   "outputs": [],
   "source": [
    "del x['key']"
   ]
  },
  {
   "cell_type": "markdown",
   "metadata": {},
   "source": [
    "# Transformaciones\n",
    "Preparación de datos."
   ]
  },
  {
   "cell_type": "code",
   "execution_count": 69,
   "metadata": {},
   "outputs": [],
   "source": [
    "## importa la librería\n",
    "import pandas\n",
    "import numpy as np\n",
    "\n",
    "pandas.set_option('display.notebook_repr_html',False)"
   ]
  },
  {
   "cell_type": "code",
   "execution_count": 72,
   "metadata": {},
   "outputs": [],
   "source": [
    "## lee el archivo del disco\n",
    "x = pandas.read_csv('Tablas/iris.csv',\n",
    "                   sep = ',',\n",
    "                   thousands = None,\n",
    "                   decimal = '.')"
   ]
  },
  {
   "cell_type": "markdown",
   "metadata": {},
   "source": [
    "# Stack & unstack\n",
    "La función stack permite reunir el dataframe con varias columnas de index mientras unstack expande desagrupa los index y agrega mayor número de columnas que de pivotes. "
   ]
  },
  {
   "cell_type": "code",
   "execution_count": 73,
   "metadata": {},
   "outputs": [
    {
     "data": {
      "text/plain": [
       "0  sepal.length       5.1\n",
       "   sepal.width        3.5\n",
       "   petal.length       1.4\n",
       "   petal.width        0.2\n",
       "   variety         Setosa\n",
       "1  sepal.length       4.9\n",
       "   sepal.width          3\n",
       "   petal.length       1.4\n",
       "   petal.width        0.2\n",
       "   variety         Setosa\n",
       "2  sepal.length       4.7\n",
       "   sepal.width        3.2\n",
       "   petal.length       1.3\n",
       "   petal.width        0.2\n",
       "   variety         Setosa\n",
       "3  sepal.length       4.6\n",
       "   sepal.width        3.1\n",
       "   petal.length       1.5\n",
       "   petal.width        0.2\n",
       "   variety         Setosa\n",
       "dtype: object"
      ]
     },
     "execution_count": 73,
     "metadata": {},
     "output_type": "execute_result"
    }
   ],
   "source": [
    "x.stack().head(20)"
   ]
  },
  {
   "cell_type": "code",
   "execution_count": 74,
   "metadata": {},
   "outputs": [
    {
     "data": {
      "text/plain": [
       "  sepal.length sepal.width petal.length petal.width variety\n",
       "0          5.1         3.5          1.4         0.2  Setosa\n",
       "1          4.9           3          1.4         0.2  Setosa\n",
       "2          4.7         3.2          1.3         0.2  Setosa\n",
       "3          4.6         3.1          1.5         0.2  Setosa"
      ]
     },
     "execution_count": 74,
     "metadata": {},
     "output_type": "execute_result"
    }
   ],
   "source": [
    "(x.stack()).unstack().head(4)"
   ]
  },
  {
   "cell_type": "markdown",
   "metadata": {},
   "source": [
    "# Tablas dinámicas\n",
    "Así como se crean algunas columnas pivote, es posible asimilar las agrupaciones a las tablas dinámicas de Excel a través de una tabla pivote."
   ]
  },
  {
   "cell_type": "code",
   "execution_count": 77,
   "metadata": {},
   "outputs": [
    {
     "name": "stdout",
     "output_type": "stream",
     "text": [
      "  key1 key2  values1  values2\n",
      "0    a    A        1        7\n",
      "1    a    B        2        8\n",
      "2    b    A        3        9\n",
      "3    b    B        4       10\n",
      "4    c    A        5       11\n",
      "5    c    B        6       12\n"
     ]
    }
   ],
   "source": [
    "m = pandas.DataFrame({'key1' : ['a','a','b','b','c','c'],\n",
    "                    'key2' : ['A','B','A','B','A','B'],\n",
    "                    'values1' : [1, 2, 3, 4, 5, 6],\n",
    "                    'values2' : [7, 8, 9, 10, 11, 12,]})\n",
    "print(m)"
   ]
  },
  {
   "cell_type": "code",
   "execution_count": 78,
   "metadata": {},
   "outputs": [
    {
     "name": "stdout",
     "output_type": "stream",
     "text": [
      "           values1  values2\n",
      "key1 key2                  \n",
      "a    A           1        7\n",
      "     B           2        8\n",
      "b    A           3        9\n",
      "     B           4       10\n",
      "c    A           5       11\n",
      "     B           6       12\n"
     ]
    }
   ],
   "source": [
    "## Se crea el pivote \n",
    "z = pandas.pivot_table(m,\n",
    "                      index = ['key1','key2'],\n",
    "                      values = ['values1','values2'])\n",
    "print(z)"
   ]
  },
  {
   "cell_type": "markdown",
   "metadata": {},
   "source": [
    "# Unión\n",
    "La unión de dos dataframe de Pandas es posible realizarlo a través de la función merge, la cual funciona cuando una de las dos tablas tiene un número de filas múltiplo del otro."
   ]
  },
  {
   "cell_type": "code",
   "execution_count": 80,
   "metadata": {},
   "outputs": [
    {
     "data": {
      "text/plain": [
       "   x  y   w\n",
       "0  1  6  10\n",
       "1  1  6  60\n",
       "2  2  7  20\n",
       "3  2  7  70\n",
       "4  3  8  30\n",
       "5  3  8  80\n",
       "6  4  9  40\n",
       "7  4  9  90"
      ]
     },
     "execution_count": 80,
     "metadata": {},
     "output_type": "execute_result"
    }
   ],
   "source": [
    "d1 = pandas.DataFrame({ 'x' : list(range(1,5)),\n",
    "                        'y' : list(range(6,10))})\n",
    "d2 = pandas.DataFrame({ 'x' : [1, 2, 3, 4, 5, 1, 2, 3, 4, 5],\n",
    "                        'w' : [10, 20, 30, 40, 50, 60, 70, 80, 90, 100]})\n",
    "pandas.merge(d1, d2)"
   ]
  },
  {
   "cell_type": "markdown",
   "metadata": {},
   "source": [
    "# Variables dummy"
   ]
  },
  {
   "cell_type": "code",
   "execution_count": null,
   "metadata": {},
   "outputs": [],
   "source": [
    "# Se genera variables dummies para variables categ"
   ]
  }
 ],
 "metadata": {
  "kernelspec": {
   "display_name": "Python 3",
   "language": "python",
   "name": "python3"
  },
  "language_info": {
   "codemirror_mode": {
    "name": "ipython",
    "version": 3
   },
   "file_extension": ".py",
   "mimetype": "text/x-python",
   "name": "python",
   "nbconvert_exporter": "python",
   "pygments_lexer": "ipython3",
   "version": "3.7.4"
  }
 },
 "nbformat": 4,
 "nbformat_minor": 2
}
